{
 "cells": [
  {
   "cell_type": "code",
   "execution_count": null,
   "metadata": {},
   "outputs": [],
   "source": [
    "import xarray as xr\n",
    "from gcsfs import mapping\n",
    "from dask_kubernetes import KubeCluster as Cluster\n",
    "from dask.distributed import Client"
   ]
  },
  {
   "cell_type": "code",
   "execution_count": null,
   "metadata": {},
   "outputs": [],
   "source": [
    "cluster = Cluster(n_workers=10)\n",
    "client = Client(cluster)\n",
    "cluster"
   ]
  },
  {
   "cell_type": "code",
   "execution_count": null,
   "metadata": {},
   "outputs": [],
   "source": [
    "zarr_time = mapping.GCSMap('pangeo-data/gpm_imerg/early/chunk_time')\n",
    "ds_time = xr.open_zarr(zarr_time)\n",
    "ds_time"
   ]
  },
  {
   "cell_type": "code",
   "execution_count": null,
   "metadata": {},
   "outputs": [],
   "source": [
    "zarr_space = mapping.GCSMap('pangeo-data/gpm_imerg/early/chunk_space')\n",
    "ds_space = xr.open_zarr(zarr_space)\n",
    "ds_space"
   ]
  },
  {
   "cell_type": "code",
   "execution_count": null,
   "metadata": {},
   "outputs": [],
   "source": [
    "da_time = ds_time.precipitationCal.sum(['time']).compute()\n",
    "da_space = ds_space.precipitationCal.sum(['time']).compute()\n",
    "(da_time - da_space).plot.imshow()"
   ]
  },
  {
   "cell_type": "code",
   "execution_count": null,
   "metadata": {},
   "outputs": [],
   "source": [
    "da_time = ds_time.probabilityLiquidPrecipitation.sum(['time']).compute()\n",
    "da_space = ds_space.probabilityLiquidPrecipitation.sum(['time']).compute()\n",
    "(da_time - da_space).plot.imshow()"
   ]
  }
 ],
 "metadata": {
  "kernelspec": {
   "display_name": "Python 3",
   "language": "python",
   "name": "python3"
  },
  "language_info": {
   "codemirror_mode": {
    "name": "ipython",
    "version": 3
   },
   "file_extension": ".py",
   "mimetype": "text/x-python",
   "name": "python",
   "nbconvert_exporter": "python",
   "pygments_lexer": "ipython3",
   "version": "3.7.3"
  }
 },
 "nbformat": 4,
 "nbformat_minor": 4
}
