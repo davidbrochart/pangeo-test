{
 "cells": [
  {
   "cell_type": "code",
   "execution_count": null,
   "metadata": {},
   "outputs": [],
   "source": [
    "from gcsfs import mapping\n",
    "from rechunker import api\n",
    "import zarr\n",
    "from dask_kubernetes import KubeCluster as Cluster\n",
    "from dask.distributed import Client"
   ]
  },
  {
   "cell_type": "code",
   "execution_count": null,
   "metadata": {},
   "outputs": [],
   "source": [
    "cluster = Cluster(n_workers=10)\n",
    "client = Client(cluster)\n",
    "cluster"
   ]
  },
  {
   "cell_type": "code",
   "execution_count": null,
   "metadata": {},
   "outputs": [],
   "source": [
    "gpm_zarr = mapping.GCSMap('pangeo-data/gpm_imerg/late/chunk_time')\n",
    "a_source = zarr.open(gpm_zarr)['precipitationCal']\n",
    "a_source"
   ]
  },
  {
   "cell_type": "code",
   "execution_count": null,
   "metadata": {},
   "outputs": [],
   "source": [
    "target_chunks = (4*12*60, 100, 100)\n",
    "max_mem = 1_000_000_000\n",
    "target_store = 'target.zarr'\n",
    "temp_store = 'temp.zarr'\n",
    "!rm -rf temp.zarr target.zarr"
   ]
  },
  {
   "cell_type": "code",
   "execution_count": null,
   "metadata": {},
   "outputs": [],
   "source": [
    "delayed = api.rechunk_zarr2zarr_w_dask(a_source, target_chunks, max_mem, target_store, temp_store=temp_store)"
   ]
  },
  {
   "cell_type": "code",
   "execution_count": null,
   "metadata": {},
   "outputs": [],
   "source": [
    "delayed.compute()"
   ]
  }
 ],
 "metadata": {
  "kernelspec": {
   "display_name": "Python 3",
   "language": "python",
   "name": "python3"
  },
  "language_info": {
   "codemirror_mode": {
    "name": "ipython",
    "version": 3
   },
   "file_extension": ".py",
   "mimetype": "text/x-python",
   "name": "python",
   "nbconvert_exporter": "python",
   "pygments_lexer": "ipython3",
   "version": "3.8.3"
  }
 },
 "nbformat": 4,
 "nbformat_minor": 4
}
